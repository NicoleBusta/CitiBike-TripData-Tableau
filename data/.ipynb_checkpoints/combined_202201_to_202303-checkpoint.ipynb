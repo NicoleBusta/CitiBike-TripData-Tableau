{
 "cells": [
  {
   "cell_type": "code",
   "execution_count": 1,
   "id": "576bca3e",
   "metadata": {},
   "outputs": [],
   "source": [
    "import pandas as pd"
   ]
  },
  {
   "cell_type": "code",
   "execution_count": 7,
   "id": "860ca0f1",
   "metadata": {},
   "outputs": [],
   "source": [
    "df1 = pd.read_csv('JC-202201-citibike-tripdata.csv')\n",
    "df2 = pd.read_csv('JC-202202-citibike-tripdata.csv')\n",
    "df3 = pd.read_csv('JC-202203-citibike-tripdata.csv')\n",
    "df4 = pd.read_csv('JC-202204-citibike-tripdata.csv')\n",
    "df5 = pd.read_csv('JC-202205-citibike-tripdata.csv')\n",
    "df6 = pd.read_csv('JC-202206-citibike-tripdata.csv')"
   ]
  },
  {
   "cell_type": "code",
   "execution_count": 8,
   "id": "dda76b4f",
   "metadata": {},
   "outputs": [],
   "source": [
    "df7 = pd.read_csv('JC-202207-citbike-tripdata.csv')"
   ]
  },
  {
   "cell_type": "code",
   "execution_count": 10,
   "id": "1c833bc9",
   "metadata": {},
   "outputs": [],
   "source": [
    "df8 = pd.read_csv('JC-202208-citibike-tripdata.csv')\n",
    "df9 = pd.read_csv('JC-202209-citibike-tripdata.csv')\n",
    "df10 = pd.read_csv('JC-202210-citibike-tripdata.csv')\n",
    "df11 = pd.read_csv('JC-202211-citibike-tripdata.csv')\n",
    "df12 = pd.read_csv('JC-202212-citibike-tripdata.csv')\n",
    "df13 = pd.read_csv('JC-202301-citibike-tripdata.csv')\n",
    "df14 = pd.read_csv('JC-202302-citibike-tripdata.csv')\n",
    "df15 = pd.read_csv('JC-202303-citibike-tripdata.csv')"
   ]
  },
  {
   "cell_type": "code",
   "execution_count": 11,
   "id": "ea53fbdd",
   "metadata": {},
   "outputs": [],
   "source": [
    "combined_df = pd.concat([df1, df2, df3, df4, df5, df6, df7, df8, df9, df10, df11, df12, df13, df14, df15])"
   ]
  },
  {
   "cell_type": "code",
   "execution_count": 12,
   "id": "15cf912b",
   "metadata": {},
   "outputs": [],
   "source": [
    "combined_df = combined_df.reset_index(drop=True)"
   ]
  },
  {
   "cell_type": "code",
   "execution_count": 15,
   "id": "76abfa88",
   "metadata": {},
   "outputs": [],
   "source": [
    "combined_df.to_csv('combined.csv', index=False)"
   ]
  }
 ],
 "metadata": {
  "kernelspec": {
   "display_name": "Python 3 (ipykernel)",
   "language": "python",
   "name": "python3"
  },
  "language_info": {
   "codemirror_mode": {
    "name": "ipython",
    "version": 3
   },
   "file_extension": ".py",
   "mimetype": "text/x-python",
   "name": "python",
   "nbconvert_exporter": "python",
   "pygments_lexer": "ipython3",
   "version": "3.9.13"
  }
 },
 "nbformat": 4,
 "nbformat_minor": 5
}
